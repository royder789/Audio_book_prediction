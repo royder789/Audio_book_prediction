{
 "cells": [
  {
   "cell_type": "code",
   "execution_count": null,
   "id": "64c17c97-0fb8-440b-b59a-c8e76ceb481e",
   "metadata": {},
   "outputs": [],
   "source": [
    "PREDICTING ON NEW DATA"
   ]
  },
  {
   "cell_type": "code",
   "execution_count": null,
   "id": "1a158a6c-d860-4b1c-9ba2-d49873c74be3",
   "metadata": {},
   "outputs": [],
   "source": [
    "IMPORT RELEVANT LIBRATRIES"
   ]
  },
  {
   "cell_type": "code",
   "execution_count": 16,
   "id": "6823d752-c722-4b2f-b577-c699f418bb40",
   "metadata": {},
   "outputs": [],
   "source": [
    "import numpy as np\n",
    "import tensorflow as tf\n",
    "import pickle"
   ]
  },
  {
   "cell_type": "code",
   "execution_count": null,
   "id": "80522fdd-8f6b-4d88-96ee-902d885764de",
   "metadata": {},
   "outputs": [],
   "source": [
    "LOAD SCALAR AND THE MODEL"
   ]
  },
  {
   "cell_type": "code",
   "execution_count": 14,
   "id": "0e024e1f-d2ba-46e4-a488-7567ef9a526c",
   "metadata": {},
   "outputs": [],
   "source": [
    "scaler_deep_learning=pickle.load(open('scalar_deep_learning.pickle','rb'))\n",
    "model=tf.keras.models.load_model('audiobooks_model.h5')"
   ]
  },
  {
   "cell_type": "code",
   "execution_count": null,
   "id": "e11c6b66-35a8-438d-9dcd-1dbde04667cb",
   "metadata": {},
   "outputs": [],
   "source": [
    "LOAD THE NEW DATA"
   ]
  },
  {
   "cell_type": "code",
   "execution_count": 21,
   "id": "97551710-077c-49aa-9beb-9432b45167b4",
   "metadata": {},
   "outputs": [],
   "source": [
    "\n",
    "\n",
    "raw_data = np.loadtxt('New_Audiobooks_Data.csv', delimiter=',')\n",
    "new_data_inputs = raw_data[:, 1:]\n"
   ]
  },
  {
   "cell_type": "code",
   "execution_count": null,
   "id": "7329c0ad-d12d-481c-a482-24f496b0c6ec",
   "metadata": {},
   "outputs": [],
   "source": [
    "PREDICTIBILTY OF CUSTOMER TO CONVERT"
   ]
  },
  {
   "cell_type": "code",
   "execution_count": 24,
   "id": "27dfbee3-d0ba-470e-8eae-b60e3031af18",
   "metadata": {},
   "outputs": [],
   "source": [
    "new_data_inputs_scaled=scaler_deep_learning.transform(new_data_inputs)\n"
   ]
  },
  {
   "cell_type": "code",
   "execution_count": 26,
   "id": "c965ff46-0e6e-430a-adab-a44b9c5e7d2e",
   "metadata": {},
   "outputs": [
    {
     "name": "stdout",
     "output_type": "stream",
     "text": [
      "1/1 [==============================] - 0s 50ms/step\n"
     ]
    },
    {
     "data": {
      "text/plain": [
       "array([0, 0, 0, 1, 0, 0, 0, 0, 0, 1, 0, 1, 1, 0, 0, 0, 1, 0, 1, 1, 0, 1,\n",
       "       1, 0, 0, 1, 0, 0, 1, 1], dtype=int64)"
      ]
     },
     "execution_count": 26,
     "metadata": {},
     "output_type": "execute_result"
    }
   ],
   "source": [
    "np.argmax(model.predict(new_data_inputs_scaled),1)"
   ]
  },
  {
   "cell_type": "code",
   "execution_count": null,
   "id": "51f1b417-5f55-4b37-bc20-a5e43d5c9725",
   "metadata": {},
   "outputs": [],
   "source": []
  }
 ],
 "metadata": {
  "kernelspec": {
   "display_name": "Python 3 (py3-TF2.0)",
   "language": "python",
   "name": "py3-tf2.0"
  },
  "language_info": {
   "codemirror_mode": {
    "name": "ipython",
    "version": 3
   },
   "file_extension": ".py",
   "mimetype": "text/x-python",
   "name": "python",
   "nbconvert_exporter": "python",
   "pygments_lexer": "ipython3",
   "version": "3.7.16"
  }
 },
 "nbformat": 4,
 "nbformat_minor": 5
}
