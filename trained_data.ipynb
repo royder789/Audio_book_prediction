{
 "cells": [
  {
   "cell_type": "code",
   "execution_count": null,
   "id": "6467a059-7d52-4c2f-853b-879920fc56b0",
   "metadata": {},
   "outputs": [],
   "source": []
  },
  {
   "cell_type": "code",
   "execution_count": 4,
   "id": "b2f07d00-00e2-45df-9b7d-5f94eceb2b39",
   "metadata": {},
   "outputs": [],
   "source": [
    "import numpy as np\n",
    "from sklearn.preprocessing import StandardScaler\n",
    "import pickle\n",
    "\n",
    "raw_csv=np.loadtxt('Audiobooks-data.csv',delimiter=',')"
   ]
  },
  {
   "cell_type": "code",
   "execution_count": 5,
   "id": "a6a351f6-91c5-410e-92b1-d5ff1d9868e1",
   "metadata": {},
   "outputs": [],
   "source": [
    "unscaled_input=raw_csv[:,1:-1]\n",
    "\n",
    "target_all=raw_csv[:,-1]\n"
   ]
  },
  {
   "cell_type": "markdown",
   "id": "3fffd8b7-d4bc-4953-b80d-87075fd338bb",
   "metadata": {},
   "source": [
    "BALANCING THE DATASET"
   ]
  },
  {
   "cell_type": "code",
   "execution_count": 6,
   "id": "4d025a5e-8c19-4b70-a662-4552203c5a0a",
   "metadata": {},
   "outputs": [],
   "source": [
    "num_one_target=int(np.sum(target_all))\n",
    "zero_target=0\n",
    "indices_to_remove=[]\n",
    "for i in range(target_all.shape[0]):#shape0 gives shape of the vector\n",
    "    if target_all[i]==0:\n",
    "        zero_target+=1\n",
    "        if zero_target>num_one_target:\n",
    "            indices_to_remove.append(i)\n",
    "            "
   ]
  },
  {
   "cell_type": "code",
   "execution_count": 7,
   "id": "37527d91-f11a-4bee-9973-d3b626de965a",
   "metadata": {},
   "outputs": [],
   "source": [
    "unscaled_input_equal=np.delete(unscaled_input,indices_to_remove,axis=0)\n",
    "target_equal=np.delete(target_all,indices_to_remove,axis=0)"
   ]
  },
  {
   "cell_type": "markdown",
   "id": "bf6f875d-6482-45c3-ad93-d472ee4b4bbe",
   "metadata": {},
   "source": [
    "STANDARDISE THE inputs "
   ]
  },
  {
   "cell_type": "code",
   "execution_count": 8,
   "id": "7d23249c-0176-47a4-b80d-0cf5625c9ce5",
   "metadata": {},
   "outputs": [],
   "source": [
    "scalar_deep_learning=StandardScaler()#\n",
    "scaled_inputs=scalar_deep_learning.fit_transform(unscaled_input_equal)#to tranform in one line"
   ]
  },
  {
   "cell_type": "markdown",
   "id": "d5f7d580-d082-487c-8588-dd566de8965b",
   "metadata": {},
   "source": [
    "SHUFFLE DATA aince we are batching because maybe data is \n",
    "a little heterogenous if it is placed according to dates"
   ]
  },
  {
   "cell_type": "code",
   "execution_count": 9,
   "id": "80f814ae-68a7-4149-bd17-c4c78be3b49f",
   "metadata": {},
   "outputs": [],
   "source": [
    "shuffled_indices=np.arange(scaled_inputs.shape[0])\n",
    "np.random.shuffle(shuffled_indices)\n",
    "shuffled_inputs=scaled_inputs[shuffled_indices]\n",
    "shuffled_targets=target_equal[shuffled_indices]#so that input still aligned by target"
   ]
  },
  {
   "cell_type": "markdown",
   "id": "dd7f4b1f-1d42-47f3-a1a2-71968e47bb4b",
   "metadata": {},
   "source": [
    "SPLIT DATASET INTO TRAIN VALIDATION TEST"
   ]
  },
  {
   "cell_type": "code",
   "execution_count": 10,
   "id": "d58f5f27-19ef-4ce2-bedf-49e0deeb78b7",
   "metadata": {},
   "outputs": [],
   "source": [
    "samples_count=shuffled_inputs.shape[0]\n",
    "train_sample=int(0.8*samples_count)\n",
    "validation_sample=int(0.1*samples_count)\n",
    "test_sample=samples_count-train_sample-validation_sample"
   ]
  },
  {
   "cell_type": "markdown",
   "id": "2cf4a8e1-95dc-4c1f-a32a-2a84d44b8088",
   "metadata": {},
   "source": [
    "EXTRACT THE TEST VAL TEST from big dataset"
   ]
  },
  {
   "cell_type": "code",
   "execution_count": 11,
   "id": "e42395e3-b571-4ca9-836b-0d65628db231",
   "metadata": {},
   "outputs": [],
   "source": [
    "train_input=shuffled_inputs[:train_sample]\n",
    "train_target=shuffled_targets[:train_sample]\n",
    "\n",
    "validation_input=shuffled_inputs[train_sample:train_sample+validation_sample]\n",
    "validation_target=shuffled_targets[train_sample:train_sample+validation_sample]\n",
    "\n",
    "test_input=shuffled_inputs[train_sample+validation_sample:]\n",
    "test_target=shuffled_targets[train_sample+validation_sample:]"
   ]
  },
  {
   "cell_type": "markdown",
   "id": "f99f349f-1566-43ad-9fce-53dddd5ec0ae",
   "metadata": {},
   "source": [
    "IN NPZ"
   ]
  },
  {
   "cell_type": "code",
   "execution_count": 12,
   "id": "bf81d692-4e4c-4ab1-a4b7-79d07fb05e22",
   "metadata": {},
   "outputs": [],
   "source": [
    "np.savez('Audiobooks_data_train',inputs=train_input ,targets=train_target)\n",
    "np.savez('Audiobooks_data_validation',inputs=validation_input ,targets=validation_target)\n",
    "np.savez('Audiobooks_data_test',inputs=test_input ,targets=test_target)"
   ]
  },
  {
   "cell_type": "code",
   "execution_count": 13,
   "id": "78a9695a-c37c-4008-aaca-29d224e7646f",
   "metadata": {},
   "outputs": [],
   "source": [
    "#SAVe THE SCALAR\n",
    "pickle.dump(scalar_deep_learning,open('scalar_deep_learning.pickle','wb'))"
   ]
  },
  {
   "cell_type": "code",
   "execution_count": 15,
   "id": "d6f06a71-b8be-4f44-a5a1-ad6f8eaccb79",
   "metadata": {},
   "outputs": [],
   "source": [
    "import tensorflow as tf"
   ]
  },
  {
   "cell_type": "code",
   "execution_count": 16,
   "id": "5b15896a-10e8-4091-88d0-78c19a2305b8",
   "metadata": {},
   "outputs": [
    {
     "name": "stderr",
     "output_type": "stream",
     "text": [
      "D:\\anacondaa3\\envs\\py3-TF2.0\\lib\\site-packages\\ipykernel_launcher.py:2: DeprecationWarning: `np.float` is a deprecated alias for the builtin `float`. To silence this warning, use `float` by itself. Doing this will not modify any behavior and is safe. If you specifically wanted the numpy scalar type, use `np.float64` here.\n",
      "Deprecated in NumPy 1.20; for more details and guidance: https://numpy.org/devdocs/release/1.20.0-notes.html#deprecations\n",
      "  \n",
      "D:\\anacondaa3\\envs\\py3-TF2.0\\lib\\site-packages\\ipykernel_launcher.py:3: DeprecationWarning: `np.int` is a deprecated alias for the builtin `int`. To silence this warning, use `int` by itself. Doing this will not modify any behavior and is safe. When replacing `np.int`, you may wish to use e.g. `np.int64` or `np.int32` to specify the precision. If you wish to review your current use, check the release note link for additional information.\n",
      "Deprecated in NumPy 1.20; for more details and guidance: https://numpy.org/devdocs/release/1.20.0-notes.html#deprecations\n",
      "  This is separate from the ipykernel package so we can avoid doing imports until\n",
      "D:\\anacondaa3\\envs\\py3-TF2.0\\lib\\site-packages\\ipykernel_launcher.py:6: DeprecationWarning: `np.float` is a deprecated alias for the builtin `float`. To silence this warning, use `float` by itself. Doing this will not modify any behavior and is safe. If you specifically wanted the numpy scalar type, use `np.float64` here.\n",
      "Deprecated in NumPy 1.20; for more details and guidance: https://numpy.org/devdocs/release/1.20.0-notes.html#deprecations\n",
      "  \n",
      "D:\\anacondaa3\\envs\\py3-TF2.0\\lib\\site-packages\\ipykernel_launcher.py:7: DeprecationWarning: `np.int` is a deprecated alias for the builtin `int`. To silence this warning, use `int` by itself. Doing this will not modify any behavior and is safe. When replacing `np.int`, you may wish to use e.g. `np.int64` or `np.int32` to specify the precision. If you wish to review your current use, check the release note link for additional information.\n",
      "Deprecated in NumPy 1.20; for more details and guidance: https://numpy.org/devdocs/release/1.20.0-notes.html#deprecations\n",
      "  import sys\n",
      "D:\\anacondaa3\\envs\\py3-TF2.0\\lib\\site-packages\\ipykernel_launcher.py:10: DeprecationWarning: `np.float` is a deprecated alias for the builtin `float`. To silence this warning, use `float` by itself. Doing this will not modify any behavior and is safe. If you specifically wanted the numpy scalar type, use `np.float64` here.\n",
      "Deprecated in NumPy 1.20; for more details and guidance: https://numpy.org/devdocs/release/1.20.0-notes.html#deprecations\n",
      "  # Remove the CWD from sys.path while we load stuff.\n",
      "D:\\anacondaa3\\envs\\py3-TF2.0\\lib\\site-packages\\ipykernel_launcher.py:11: DeprecationWarning: `np.int` is a deprecated alias for the builtin `int`. To silence this warning, use `int` by itself. Doing this will not modify any behavior and is safe. When replacing `np.int`, you may wish to use e.g. `np.int64` or `np.int32` to specify the precision. If you wish to review your current use, check the release note link for additional information.\n",
      "Deprecated in NumPy 1.20; for more details and guidance: https://numpy.org/devdocs/release/1.20.0-notes.html#deprecations\n",
      "  # This is added back by InteractiveShellApp.init_path()\n"
     ]
    }
   ],
   "source": [
    "npz=np.load('Audiobooks_data_train.npz')\n",
    "train_inputs=npz['inputs'].astype(np.float)\n",
    "train_targets=npz['targets'].astype(np.int)\n",
    "\n",
    "npz=np.load('Audiobooks_data_validation.npz')\n",
    "validation_inputs=npz['inputs'].astype(np.float)\n",
    "validation_targets=npz['targets'].astype(np.int)\n",
    "\n",
    "npz=np.load('Audiobooks_data_test.npz')\n",
    "test_inputs=npz['inputs'].astype(np.float)\n",
    "test_targets=npz['targets'].astype(np.int)"
   ]
  },
  {
   "cell_type": "code",
   "execution_count": 20,
   "id": "783914ad-493c-45e7-b7f3-7fb2402ad3a7",
   "metadata": {},
   "outputs": [
    {
     "name": "stdout",
     "output_type": "stream",
     "text": [
      "Epoch 1/100\n",
      "36/36 - 3s - loss: 0.5702 - accuracy: 0.6946 - val_loss: 0.4706 - val_accuracy: 0.8233 - 3s/epoch - 80ms/step\n",
      "Epoch 2/100\n",
      "36/36 - 0s - loss: 0.4515 - accuracy: 0.7709 - val_loss: 0.4089 - val_accuracy: 0.7651 - 93ms/epoch - 3ms/step\n",
      "Epoch 3/100\n",
      "36/36 - 0s - loss: 0.4049 - accuracy: 0.7843 - val_loss: 0.3760 - val_accuracy: 0.7763 - 126ms/epoch - 3ms/step\n",
      "Epoch 4/100\n",
      "36/36 - 0s - loss: 0.3850 - accuracy: 0.7930 - val_loss: 0.3554 - val_accuracy: 0.8210 - 117ms/epoch - 3ms/step\n",
      "Epoch 5/100\n",
      "36/36 - 0s - loss: 0.3708 - accuracy: 0.8025 - val_loss: 0.3449 - val_accuracy: 0.8233 - 109ms/epoch - 3ms/step\n",
      "Epoch 6/100\n",
      "36/36 - 0s - loss: 0.3627 - accuracy: 0.8106 - val_loss: 0.3427 - val_accuracy: 0.8188 - 107ms/epoch - 3ms/step\n",
      "Epoch 7/100\n",
      "36/36 - 0s - loss: 0.3573 - accuracy: 0.8092 - val_loss: 0.3367 - val_accuracy: 0.8210 - 114ms/epoch - 3ms/step\n",
      "Epoch 8/100\n",
      "36/36 - 0s - loss: 0.3525 - accuracy: 0.8075 - val_loss: 0.3403 - val_accuracy: 0.8166 - 149ms/epoch - 4ms/step\n",
      "Epoch 9/100\n",
      "36/36 - 0s - loss: 0.3494 - accuracy: 0.8078 - val_loss: 0.3330 - val_accuracy: 0.8322 - 95ms/epoch - 3ms/step\n",
      "Epoch 10/100\n",
      "36/36 - 0s - loss: 0.3470 - accuracy: 0.8055 - val_loss: 0.3354 - val_accuracy: 0.8166 - 105ms/epoch - 3ms/step\n",
      "Epoch 11/100\n",
      "36/36 - 0s - loss: 0.3440 - accuracy: 0.8156 - val_loss: 0.3338 - val_accuracy: 0.8076 - 101ms/epoch - 3ms/step\n"
     ]
    },
    {
     "data": {
      "text/plain": [
       "<keras.callbacks.History at 0x1d27a7d6e88>"
      ]
     },
     "execution_count": 20,
     "metadata": {},
     "output_type": "execute_result"
    }
   ],
   "source": [
    "# automatically detect input nodesinput_size=10\n",
    "output_size=2#0 or 1\n",
    "hidden_layer=50\n",
    "model=tf.keras.Sequential([\n",
    "    tf.keras.layers.Dense(hidden_layer,activation='relu'),\n",
    "    tf.keras.layers.Dense(hidden_layer,activation='relu'),\n",
    "    tf.keras.layers.Dense(output_size,activation='softmax')\n",
    "    \n",
    "    \n",
    "])\n",
    "\n",
    "model.compile(optimizer='adam',loss='sparse_categorical_crossentropy',metrics=['accuracy'])\n",
    "batch_size=100\n",
    "max_epochs=100\n",
    "early=tf.keras.callbacks.EarlyStopping(patience=2)\n",
    "model.fit(\n",
    "    train_inputs,\n",
    "    train_targets,\n",
    "    batch_size=batch_size,\n",
    "    epochs=max_epochs,\n",
    "    callbacks=[early],\n",
    "    validation_data=(validation_input,validation_target),\n",
    "    verbose=2\n",
    ")"
   ]
  },
  {
   "cell_type": "code",
   "execution_count": 22,
   "id": "40c41f2a-59c1-4df8-a4d9-af6a676ab641",
   "metadata": {},
   "outputs": [
    {
     "ename": "SyntaxError",
     "evalue": "invalid syntax (1054046285.py, line 1)",
     "output_type": "error",
     "traceback": [
      "\u001b[1;36m  File \u001b[1;32m\"C:\\Users\\royku\\AppData\\Local\\Temp\\ipykernel_5496\\1054046285.py\"\u001b[1;36m, line \u001b[1;32m1\u001b[0m\n\u001b[1;33m    TEST THE MODEL\u001b[0m\n\u001b[1;37m           ^\u001b[0m\n\u001b[1;31mSyntaxError\u001b[0m\u001b[1;31m:\u001b[0m invalid syntax\n"
     ]
    }
   ],
   "source": [
    "TEST THE MODEL"
   ]
  },
  {
   "cell_type": "code",
   "execution_count": 21,
   "id": "16b3f80b-d556-458b-b359-7b10599f40c5",
   "metadata": {},
   "outputs": [
    {
     "name": "stdout",
     "output_type": "stream",
     "text": [
      "14/14 [==============================] - 0s 2ms/step - loss: 0.3412 - accuracy: 0.8259\n"
     ]
    }
   ],
   "source": [
    "test_loss,test_accuracy=model.evaluate(test_inputs,test_targets)\n"
   ]
  },
  {
   "cell_type": "markdown",
   "id": "6be0f98d-06e7-4406-947b-d88d7ba2c9f2",
   "metadata": {},
   "source": [
    "OBTAIN THE PROBABILTY FOR CUSTOMER TO CONVERT"
   ]
  },
  {
   "cell_type": "code",
   "execution_count": 24,
   "id": "847d663d-0623-4794-b9c5-3eebf03575b4",
   "metadata": {},
   "outputs": [
    {
     "name": "stdout",
     "output_type": "stream",
     "text": [
      "14/14 [==============================] - 0s 2ms/step\n"
     ]
    },
    {
     "data": {
      "text/plain": [
       "array([[9.99877214e-01, 1.22761645e-04],\n",
       "       [8.88694369e-04, 9.99111176e-01],\n",
       "       [1.14180043e-03, 9.98858094e-01],\n",
       "       [2.12305397e-01, 7.87694514e-01],\n",
       "       [4.06806290e-01, 5.93193769e-01],\n",
       "       [1.06782429e-01, 8.93217564e-01],\n",
       "       [1.72886681e-02, 9.82711315e-01],\n",
       "       [1.14180043e-03, 9.98858094e-01],\n",
       "       [3.51018488e-01, 6.48981571e-01],\n",
       "       [4.11273181e-01, 5.88726819e-01],\n",
       "       [1.81358645e-03, 9.98186409e-01],\n",
       "       [9.99988377e-01, 1.15164867e-05],\n",
       "       [9.85493720e-01, 1.45063270e-02],\n",
       "       [5.22648871e-01, 4.77351129e-01],\n",
       "       [9.99873400e-01, 1.26732222e-04],\n",
       "       [7.85992563e-01, 2.14007393e-01],\n",
       "       [4.22834694e-01, 5.77165306e-01],\n",
       "       [2.43439049e-01, 7.56560981e-01],\n",
       "       [4.01547432e-01, 5.98452568e-01],\n",
       "       [5.90669513e-01, 4.09330487e-01],\n",
       "       [1.11104943e-01, 8.88895094e-01],\n",
       "       [3.60676706e-01, 6.39323235e-01],\n",
       "       [2.94363737e-01, 7.05636203e-01],\n",
       "       [9.50167835e-01, 4.98322211e-02],\n",
       "       [1.82605768e-03, 9.98173892e-01],\n",
       "       [9.99053895e-01, 9.46044805e-04],\n",
       "       [3.94043654e-01, 6.05956316e-01],\n",
       "       [1.84406561e-03, 9.98155832e-01],\n",
       "       [9.69509363e-01, 3.04906033e-02],\n",
       "       [8.69044394e-04, 9.99130964e-01],\n",
       "       [9.99999940e-01, 1.20787313e-09],\n",
       "       [2.81093329e-01, 7.18906641e-01],\n",
       "       [4.81263772e-02, 9.51873660e-01],\n",
       "       [9.29759681e-01, 7.02403113e-02],\n",
       "       [7.43630767e-01, 2.56369174e-01],\n",
       "       [9.99994099e-01, 5.85302632e-06],\n",
       "       [5.00869989e-01, 4.99130011e-01],\n",
       "       [9.99999464e-01, 4.50640840e-07],\n",
       "       [7.75708491e-03, 9.92242813e-01],\n",
       "       [6.17739201e-01, 3.82260799e-01],\n",
       "       [2.04469934e-01, 7.95530140e-01],\n",
       "       [3.90091479e-01, 6.09908581e-01],\n",
       "       [1.94509774e-01, 8.05490255e-01],\n",
       "       [6.49592459e-01, 3.50407571e-01],\n",
       "       [9.99999821e-01, 1.41339285e-07],\n",
       "       [5.77642083e-01, 4.22357798e-01],\n",
       "       [8.29524398e-01, 1.70475602e-01],\n",
       "       [5.67944467e-01, 4.32055533e-01],\n",
       "       [9.99999940e-01, 2.53481724e-09],\n",
       "       [2.41716020e-03, 9.97582793e-01],\n",
       "       [6.13637269e-01, 3.86362672e-01],\n",
       "       [2.28516012e-01, 7.71483898e-01],\n",
       "       [4.67508882e-01, 5.32491148e-01],\n",
       "       [4.73482579e-01, 5.26517510e-01],\n",
       "       [5.41676462e-01, 4.58323509e-01],\n",
       "       [6.13637269e-01, 3.86362672e-01],\n",
       "       [5.51217079e-01, 4.48782831e-01],\n",
       "       [9.99999940e-01, 1.88944388e-10],\n",
       "       [4.10431385e-01, 5.89568615e-01],\n",
       "       [3.26604694e-01, 6.73395336e-01],\n",
       "       [3.83375913e-01, 6.16624057e-01],\n",
       "       [5.50894558e-01, 4.49105412e-01],\n",
       "       [4.22530144e-01, 5.77469766e-01],\n",
       "       [9.99998748e-01, 1.15483840e-06],\n",
       "       [1.62127629e-01, 8.37872446e-01],\n",
       "       [4.26292956e-01, 5.73706985e-01],\n",
       "       [2.30683342e-01, 7.69316494e-01],\n",
       "       [3.41640856e-07, 9.99999583e-01],\n",
       "       [3.19823265e-01, 6.80176795e-01],\n",
       "       [3.80465984e-01, 6.19534016e-01],\n",
       "       [9.99262452e-01, 7.37603987e-04],\n",
       "       [5.36101580e-01, 4.63898361e-01],\n",
       "       [6.94488585e-01, 3.05511415e-01],\n",
       "       [5.73180854e-01, 4.26819116e-01],\n",
       "       [9.99999940e-01, 1.81288372e-12],\n",
       "       [9.34999943e-01, 6.50000647e-02],\n",
       "       [5.79503298e-01, 4.20496672e-01],\n",
       "       [1.35672034e-03, 9.98643339e-01],\n",
       "       [1.72338977e-01, 8.27660978e-01],\n",
       "       [9.98893142e-01, 1.10693311e-03],\n",
       "       [1.84979051e-01, 8.15020919e-01],\n",
       "       [9.99999940e-01, 2.77228268e-10],\n",
       "       [1.67947655e-04, 9.99832153e-01],\n",
       "       [4.03113097e-01, 5.96886873e-01],\n",
       "       [5.71913421e-01, 4.28086579e-01],\n",
       "       [3.28850510e-12, 9.99999940e-01],\n",
       "       [1.11365907e-01, 8.88634026e-01],\n",
       "       [4.80837480e-05, 9.99951899e-01],\n",
       "       [1.71585947e-01, 8.28414083e-01],\n",
       "       [4.37943518e-01, 5.62056482e-01],\n",
       "       [3.08633566e-01, 6.91366315e-01],\n",
       "       [5.80445468e-01, 4.19554502e-01],\n",
       "       [2.50255316e-01, 7.49744713e-01],\n",
       "       [2.30702773e-01, 7.69297242e-01],\n",
       "       [9.99999940e-01, 6.27254113e-15],\n",
       "       [5.73151588e-01, 4.26848382e-01],\n",
       "       [9.97199714e-01, 2.80022644e-03],\n",
       "       [1.96890444e-01, 8.03109586e-01],\n",
       "       [5.80445468e-01, 4.19554502e-01],\n",
       "       [3.45460892e-01, 6.54539049e-01],\n",
       "       [5.77642083e-01, 4.22357798e-01],\n",
       "       [9.99999940e-01, 1.24084397e-11],\n",
       "       [9.99977052e-01, 2.29135821e-05],\n",
       "       [1.18721378e-04, 9.99881208e-01],\n",
       "       [6.13637269e-01, 3.86362672e-01],\n",
       "       [1.78020750e-03, 9.98219848e-01],\n",
       "       [5.80445468e-01, 4.19554502e-01],\n",
       "       [6.90236092e-01, 3.09763938e-01],\n",
       "       [2.37254499e-04, 9.99762774e-01],\n",
       "       [5.79842269e-01, 4.20157731e-01],\n",
       "       [5.40656388e-01, 4.59343493e-01],\n",
       "       [6.13637269e-01, 3.86362672e-01],\n",
       "       [2.58633703e-01, 7.41366208e-01],\n",
       "       [7.28337467e-02, 9.27166164e-01],\n",
       "       [9.97909784e-01, 2.09020684e-03],\n",
       "       [1.09566237e-04, 9.99890387e-01],\n",
       "       [5.44112325e-01, 4.55887645e-01],\n",
       "       [4.69331175e-01, 5.30668736e-01],\n",
       "       [5.75077891e-01, 4.24922138e-01],\n",
       "       [1.10615825e-03, 9.98893857e-01],\n",
       "       [4.04206723e-01, 5.95793307e-01],\n",
       "       [7.30939507e-01, 2.69060552e-01],\n",
       "       [5.77642083e-01, 4.22357798e-01],\n",
       "       [2.69263804e-01, 7.30736136e-01],\n",
       "       [4.84014332e-01, 5.15985668e-01],\n",
       "       [2.82074064e-01, 7.17925906e-01],\n",
       "       [9.83793736e-01, 1.62063707e-02],\n",
       "       [2.53016114e-01, 7.46983826e-01],\n",
       "       [5.79842269e-01, 4.20157731e-01],\n",
       "       [5.31882048e-01, 4.68117982e-01],\n",
       "       [9.99999940e-01, 5.62401965e-08],\n",
       "       [2.27993331e-03, 9.97720063e-01],\n",
       "       [4.67508882e-01, 5.32491148e-01],\n",
       "       [9.99999821e-01, 9.32760571e-08],\n",
       "       [3.68601739e-01, 6.31398380e-01],\n",
       "       [4.88930164e-05, 9.99951065e-01],\n",
       "       [9.71040063e-05, 9.99902785e-01],\n",
       "       [3.69377412e-05, 9.99962986e-01],\n",
       "       [9.99778271e-01, 2.21827402e-04],\n",
       "       [9.09253597e-01, 9.07463580e-02],\n",
       "       [5.44540107e-01, 4.55459982e-01],\n",
       "       [7.83507004e-02, 9.21649277e-01],\n",
       "       [3.75988334e-01, 6.24011576e-01],\n",
       "       [6.72552347e-01, 3.27447534e-01],\n",
       "       [3.03746219e-05, 9.99969542e-01],\n",
       "       [2.78441191e-01, 7.21558809e-01],\n",
       "       [2.40637586e-01, 7.59362400e-01],\n",
       "       [9.99999940e-01, 1.32114817e-08],\n",
       "       [2.49508888e-01, 7.50491083e-01],\n",
       "       [2.11488008e-01, 7.88511932e-01],\n",
       "       [2.56941766e-02, 9.74305749e-01],\n",
       "       [3.88345957e-01, 6.11654043e-01],\n",
       "       [1.19907803e-04, 9.99880016e-01],\n",
       "       [2.26826876e-01, 7.73173213e-01],\n",
       "       [9.97661293e-01, 2.33866228e-03],\n",
       "       [3.97008359e-01, 6.02991700e-01],\n",
       "       [1.03979269e-02, 9.89602089e-01],\n",
       "       [5.77642083e-01, 4.22357798e-01],\n",
       "       [4.10710186e-01, 5.89289725e-01],\n",
       "       [1.77487358e-03, 9.98225093e-01],\n",
       "       [6.13637269e-01, 3.86362672e-01],\n",
       "       [8.36831093e-01, 1.63168848e-01],\n",
       "       [2.93519378e-01, 7.06480622e-01],\n",
       "       [4.24846321e-01, 5.75153708e-01],\n",
       "       [2.33756639e-02, 9.76624370e-01],\n",
       "       [5.65562487e-01, 4.34437543e-01],\n",
       "       [6.13637269e-01, 3.86362672e-01],\n",
       "       [6.13637269e-01, 3.86362672e-01],\n",
       "       [2.72014946e-01, 7.27985024e-01],\n",
       "       [9.99989927e-01, 9.99474469e-06],\n",
       "       [1.04827166e-01, 8.95172834e-01],\n",
       "       [8.42435539e-01, 1.57564402e-01],\n",
       "       [6.78001982e-07, 9.99999225e-01],\n",
       "       [1.82605768e-03, 9.98173892e-01],\n",
       "       [9.80532348e-01, 1.94676314e-02],\n",
       "       [4.48885173e-01, 5.51114738e-01],\n",
       "       [6.71298862e-01, 3.28701168e-01],\n",
       "       [9.97575670e-02, 9.00242388e-01],\n",
       "       [9.99999940e-01, 2.73908663e-13],\n",
       "       [1.74475133e-01, 8.25524807e-01],\n",
       "       [2.20909521e-01, 7.79090583e-01],\n",
       "       [6.13637269e-01, 3.86362672e-01],\n",
       "       [5.32176375e-01, 4.67823654e-01],\n",
       "       [4.15986627e-01, 5.84013343e-01],\n",
       "       [2.12811321e-01, 7.87188649e-01],\n",
       "       [4.07493085e-01, 5.92506826e-01],\n",
       "       [9.99999940e-01, 4.33299130e-09],\n",
       "       [7.66326904e-01, 2.33673096e-01],\n",
       "       [8.35749321e-04, 9.99164164e-01],\n",
       "       [2.43627655e-04, 9.99756336e-01],\n",
       "       [1.20545067e-02, 9.87945497e-01],\n",
       "       [6.13637269e-01, 3.86362672e-01],\n",
       "       [9.70805764e-01, 2.91943327e-02],\n",
       "       [5.34471333e-01, 4.65528637e-01],\n",
       "       [3.25229615e-01, 6.74770296e-01],\n",
       "       [9.45208490e-01, 5.47915436e-02],\n",
       "       [6.13637269e-01, 3.86362672e-01],\n",
       "       [3.06777656e-01, 6.93222344e-01],\n",
       "       [7.29108579e-04, 9.99270916e-01],\n",
       "       [5.64964235e-01, 4.35035825e-01],\n",
       "       [5.53022623e-01, 4.46977407e-01],\n",
       "       [4.11760092e-01, 5.88240027e-01],\n",
       "       [9.02269125e-01, 9.77308750e-02],\n",
       "       [4.81865019e-01, 5.18134832e-01],\n",
       "       [6.94488585e-01, 3.05511415e-01],\n",
       "       [1.12523220e-03, 9.98874784e-01],\n",
       "       [3.36589711e-03, 9.96634007e-01],\n",
       "       [3.46644729e-01, 6.53355360e-01],\n",
       "       [1.56062457e-03, 9.98439312e-01],\n",
       "       [3.99325818e-01, 6.00674152e-01],\n",
       "       [5.07255614e-01, 4.92744505e-01],\n",
       "       [4.10431385e-01, 5.89568615e-01],\n",
       "       [1.03302242e-03, 9.98966932e-01],\n",
       "       [2.05810997e-03, 9.97941911e-01],\n",
       "       [9.87953365e-01, 1.20465634e-02],\n",
       "       [5.52925915e-02, 9.44707394e-01],\n",
       "       [9.76838648e-01, 2.31613275e-02],\n",
       "       [9.99992073e-01, 7.91998173e-06],\n",
       "       [8.39810893e-02, 9.16018844e-01],\n",
       "       [6.11000657e-02, 9.38899875e-01],\n",
       "       [9.94028926e-01, 5.97093720e-03],\n",
       "       [9.99993026e-01, 6.96353118e-06],\n",
       "       [2.87964046e-01, 7.12036073e-01],\n",
       "       [1.98101066e-03, 9.98018980e-01],\n",
       "       [2.38649909e-06, 9.99997556e-01],\n",
       "       [1.76098973e-01, 8.23900938e-01],\n",
       "       [6.13637269e-01, 3.86362672e-01],\n",
       "       [1.53460802e-04, 9.99846458e-01],\n",
       "       [1.85090825e-01, 8.14909101e-01],\n",
       "       [1.57079309e-01, 8.42920601e-01],\n",
       "       [3.07488255e-04, 9.99692559e-01],\n",
       "       [9.42304432e-01, 5.76955937e-02],\n",
       "       [8.73555124e-01, 1.26444966e-01],\n",
       "       [5.63075423e-01, 4.36924487e-01],\n",
       "       [9.43506711e-06, 9.99990523e-01],\n",
       "       [9.99977171e-01, 2.27645160e-05],\n",
       "       [5.71913421e-01, 4.28086579e-01],\n",
       "       [4.10431385e-01, 5.89568615e-01],\n",
       "       [2.23893747e-01, 7.76106238e-01],\n",
       "       [6.24342740e-01, 3.75657171e-01],\n",
       "       [3.96114796e-01, 6.03885293e-01],\n",
       "       [2.88545698e-01, 7.11454272e-01],\n",
       "       [1.98801421e-03, 9.98011827e-01],\n",
       "       [6.51677072e-01, 3.48322868e-01],\n",
       "       [1.08302161e-01, 8.91697824e-01],\n",
       "       [5.77642083e-01, 4.22357798e-01],\n",
       "       [9.99999821e-01, 7.59498633e-08],\n",
       "       [5.08918524e-01, 4.91081446e-01],\n",
       "       [5.75602412e-01, 4.24397558e-01],\n",
       "       [9.99986589e-01, 1.33278381e-05],\n",
       "       [9.98911798e-01, 1.08818954e-03],\n",
       "       [3.38456869e-01, 6.61543071e-01],\n",
       "       [9.33038771e-01, 6.69612959e-02],\n",
       "       [8.07708263e-01, 1.92291811e-01],\n",
       "       [9.98547137e-01, 1.45277695e-03],\n",
       "       [9.99685407e-01, 3.14661127e-04],\n",
       "       [2.91251182e-03, 9.97087479e-01],\n",
       "       [9.13163781e-01, 8.68361369e-02],\n",
       "       [9.99999821e-01, 1.29701704e-07],\n",
       "       [9.64696050e-01, 3.53039280e-02],\n",
       "       [9.99999940e-01, 4.11574907e-09],\n",
       "       [4.78321403e-01, 5.21678627e-01],\n",
       "       [5.27371407e-01, 4.72628623e-01],\n",
       "       [1.28331766e-01, 8.71668279e-01],\n",
       "       [2.91499853e-01, 7.08500147e-01],\n",
       "       [4.27664578e-01, 5.72335482e-01],\n",
       "       [9.99999940e-01, 6.85428277e-14],\n",
       "       [2.37960592e-01, 7.62039363e-01],\n",
       "       [8.12632680e-01, 1.87367290e-01],\n",
       "       [1.68107316e-01, 8.31892669e-01],\n",
       "       [3.88186365e-01, 6.11813724e-01],\n",
       "       [5.50766110e-01, 4.49233890e-01],\n",
       "       [9.51463640e-01, 4.85362820e-02],\n",
       "       [3.65649641e-01, 6.34350359e-01],\n",
       "       [9.99999940e-01, 2.60625299e-09],\n",
       "       [1.14180043e-03, 9.98858094e-01],\n",
       "       [9.99999940e-01, 1.29169613e-12],\n",
       "       [3.04746300e-01, 6.95253670e-01],\n",
       "       [4.50992845e-02, 9.54900742e-01],\n",
       "       [6.22679654e-04, 9.99377310e-01],\n",
       "       [5.77642083e-01, 4.22357798e-01],\n",
       "       [4.07493085e-01, 5.92506826e-01],\n",
       "       [5.80221275e-03, 9.94197726e-01],\n",
       "       [6.29368824e-09, 9.99999940e-01],\n",
       "       [9.99996126e-01, 3.82671760e-06],\n",
       "       [9.83700097e-01, 1.62998531e-02],\n",
       "       [9.99999940e-01, 9.79087796e-13],\n",
       "       [9.99952853e-01, 4.70413434e-05],\n",
       "       [5.78779407e-07, 9.99999344e-01],\n",
       "       [1.99518353e-03, 9.98004854e-01],\n",
       "       [9.99999940e-01, 6.51922205e-09],\n",
       "       [1.06803462e-01, 8.93196523e-01],\n",
       "       [9.99999940e-01, 3.78333025e-11],\n",
       "       [8.34673703e-01, 1.65326297e-01],\n",
       "       [1.01860589e-03, 9.98981476e-01],\n",
       "       [5.73819084e-03, 9.94261861e-01],\n",
       "       [5.22638261e-01, 4.77361679e-01],\n",
       "       [1.13690083e-04, 9.99886215e-01],\n",
       "       [2.81352754e-07, 9.99999702e-01],\n",
       "       [5.15364349e-01, 4.84635741e-01],\n",
       "       [7.45248108e-04, 9.99254823e-01],\n",
       "       [9.99998271e-01, 1.72529121e-06],\n",
       "       [6.13637269e-01, 3.86362672e-01],\n",
       "       [6.55680448e-02, 9.34431970e-01],\n",
       "       [1.43487290e-01, 8.56512606e-01],\n",
       "       [9.99786377e-01, 2.13521984e-04],\n",
       "       [9.99999940e-01, 2.98155223e-10],\n",
       "       [1.39989004e-01, 8.60010982e-01],\n",
       "       [5.66245914e-01, 4.33754146e-01],\n",
       "       [3.22903872e-01, 6.77096188e-01],\n",
       "       [9.99999940e-01, 1.05479181e-10],\n",
       "       [7.97546454e-05, 9.99920189e-01],\n",
       "       [4.10431385e-01, 5.89568615e-01],\n",
       "       [4.20158029e-01, 5.79841971e-01],\n",
       "       [2.89562464e-01, 7.10437536e-01],\n",
       "       [6.13637269e-01, 3.86362672e-01],\n",
       "       [5.93570650e-01, 4.06429321e-01],\n",
       "       [2.03443304e-01, 7.96556652e-01],\n",
       "       [8.62179697e-03, 9.91378069e-01],\n",
       "       [1.02293468e-03, 9.98976946e-01],\n",
       "       [9.99999940e-01, 1.69753600e-09],\n",
       "       [9.99999344e-01, 5.96108293e-07],\n",
       "       [6.13637269e-01, 3.86362672e-01],\n",
       "       [3.69359940e-01, 6.30640030e-01],\n",
       "       [9.72030878e-01, 2.79691629e-02],\n",
       "       [5.16056538e-01, 4.83943433e-01],\n",
       "       [9.97942984e-01, 2.05702009e-03],\n",
       "       [8.66652369e-01, 1.33347645e-01],\n",
       "       [3.00255835e-01, 6.99744165e-01],\n",
       "       [3.60369205e-01, 6.39630735e-01],\n",
       "       [9.99995649e-01, 4.33943887e-06],\n",
       "       [6.13637269e-01, 3.86362672e-01],\n",
       "       [4.88260210e-01, 5.11739731e-01],\n",
       "       [9.99013484e-01, 9.86460131e-04],\n",
       "       [1.79630533e-05, 9.99981940e-01],\n",
       "       [4.00537699e-01, 5.99462271e-01],\n",
       "       [3.86290133e-01, 6.13709867e-01],\n",
       "       [9.99999940e-01, 2.20842528e-12],\n",
       "       [9.99993026e-01, 6.96193092e-06],\n",
       "       [3.46533470e-02, 9.65346754e-01],\n",
       "       [9.99579132e-01, 4.20911354e-04],\n",
       "       [2.53979504e-01, 7.46020496e-01],\n",
       "       [2.35485762e-01, 7.64514148e-01],\n",
       "       [5.97611308e-01, 4.02388692e-01],\n",
       "       [7.55007207e-01, 2.44992808e-01],\n",
       "       [2.85872728e-01, 7.14127243e-01],\n",
       "       [6.67117655e-01, 3.32882345e-01],\n",
       "       [6.13637269e-01, 3.86362672e-01],\n",
       "       [1.79076869e-05, 9.99982059e-01],\n",
       "       [3.83792490e-01, 6.16207540e-01],\n",
       "       [3.80585790e-01, 6.19414210e-01],\n",
       "       [3.25874388e-01, 6.74125612e-01],\n",
       "       [9.97645974e-01, 2.35400093e-03],\n",
       "       [9.99999940e-01, 7.26632025e-14],\n",
       "       [9.94052172e-01, 5.94786275e-03],\n",
       "       [3.89354378e-01, 6.10645652e-01],\n",
       "       [3.15804183e-01, 6.84195876e-01],\n",
       "       [1.82138101e-04, 9.99817848e-01],\n",
       "       [9.99992549e-01, 7.42620750e-06],\n",
       "       [9.86438870e-01, 1.35609871e-02],\n",
       "       [3.46289426e-01, 6.53710604e-01],\n",
       "       [5.70139825e-01, 4.29860115e-01],\n",
       "       [1.43068165e-01, 8.56931806e-01],\n",
       "       [2.20412955e-01, 7.79587030e-01],\n",
       "       [9.40671980e-01, 5.93280494e-02],\n",
       "       [9.20776367e-01, 7.92236477e-02],\n",
       "       [4.26862478e-01, 5.73137462e-01],\n",
       "       [5.74785948e-01, 4.25214082e-01],\n",
       "       [9.99999940e-01, 1.71406034e-13],\n",
       "       [4.11760092e-01, 5.88240027e-01],\n",
       "       [1.98101066e-03, 9.98018980e-01],\n",
       "       [9.95961785e-01, 4.03821375e-03],\n",
       "       [6.50273979e-01, 3.49726081e-01],\n",
       "       [5.09606325e-05, 9.99948919e-01],\n",
       "       [1.84677984e-03, 9.98153210e-01],\n",
       "       [4.28723943e-05, 9.99957025e-01],\n",
       "       [6.13637269e-01, 3.86362672e-01],\n",
       "       [6.13637269e-01, 3.86362672e-01],\n",
       "       [2.73987859e-01, 7.26012170e-01],\n",
       "       [5.77642083e-01, 4.22357798e-01],\n",
       "       [1.58783894e-06, 9.99998391e-01],\n",
       "       [1.00205220e-01, 8.99794638e-01],\n",
       "       [9.57863092e-01, 4.21368517e-02],\n",
       "       [6.13637269e-01, 3.86362672e-01],\n",
       "       [9.99999940e-01, 9.07382058e-10],\n",
       "       [7.15524890e-04, 9.99284506e-01],\n",
       "       [5.77642083e-01, 4.22357798e-01],\n",
       "       [9.99999940e-01, 1.87201726e-10],\n",
       "       [5.34039782e-03, 9.94659543e-01],\n",
       "       [3.79998177e-01, 6.20001793e-01],\n",
       "       [2.62836874e-01, 7.37163067e-01],\n",
       "       [2.76036747e-02, 9.72396255e-01],\n",
       "       [5.77642083e-01, 4.22357798e-01],\n",
       "       [9.68332469e-01, 3.16675529e-02],\n",
       "       [1.93914156e-02, 9.80608582e-01],\n",
       "       [9.99999940e-01, 1.21899601e-13],\n",
       "       [6.13637269e-01, 3.86362672e-01],\n",
       "       [6.64135441e-05, 9.99933541e-01],\n",
       "       [3.43644738e-01, 6.56355321e-01],\n",
       "       [6.13637269e-01, 3.86362672e-01],\n",
       "       [1.26040584e-04, 9.99874115e-01],\n",
       "       [9.99999464e-01, 4.69508450e-07],\n",
       "       [9.99999940e-01, 1.19805709e-13],\n",
       "       [9.99999940e-01, 9.10315556e-09],\n",
       "       [6.09956622e-01, 3.90043348e-01],\n",
       "       [4.67508882e-01, 5.32491148e-01],\n",
       "       [9.97481465e-01, 2.51848763e-03],\n",
       "       [5.73458076e-01, 4.26541865e-01],\n",
       "       [6.63302958e-01, 3.36697012e-01],\n",
       "       [9.99999940e-01, 7.60316696e-14],\n",
       "       [8.90235156e-02, 9.10976529e-01],\n",
       "       [9.93970871e-01, 6.02909410e-03],\n",
       "       [1.56491995e-01, 8.43508065e-01],\n",
       "       [2.80436963e-01, 7.19563067e-01],\n",
       "       [9.99999940e-01, 3.81287341e-14],\n",
       "       [4.63553160e-01, 5.36446750e-01],\n",
       "       [7.13429749e-02, 9.28657055e-01],\n",
       "       [9.98927534e-01, 1.07239303e-03],\n",
       "       [3.63093227e-01, 6.36906683e-01],\n",
       "       [6.98354021e-02, 9.30164635e-01],\n",
       "       [1.14180043e-03, 9.98858094e-01],\n",
       "       [7.18928687e-03, 9.92810667e-01],\n",
       "       [5.58565974e-01, 4.41433996e-01],\n",
       "       [4.26295102e-01, 5.73704958e-01],\n",
       "       [8.36115181e-01, 1.63884833e-01],\n",
       "       [9.99936283e-01, 6.36078403e-05],\n",
       "       [5.86973988e-02, 9.41302538e-01],\n",
       "       [9.99912918e-01, 8.70093354e-05],\n",
       "       [6.13637269e-01, 3.86362672e-01],\n",
       "       [9.72578704e-01, 2.74213068e-02],\n",
       "       [9.65361595e-01, 3.46384384e-02],\n",
       "       [9.81312752e-01, 1.86872054e-02],\n",
       "       [5.04462540e-01, 4.95537400e-01],\n",
       "       [9.95188236e-01, 4.81171114e-03],\n",
       "       [9.99999940e-01, 1.99702668e-12],\n",
       "       [4.08176810e-01, 5.91823280e-01],\n",
       "       [1.14180043e-03, 9.98858094e-01],\n",
       "       [1.76102312e-05, 9.99982297e-01],\n",
       "       [5.79842269e-01, 4.20157731e-01],\n",
       "       [4.52506483e-01, 5.47493517e-01],\n",
       "       [4.73835707e-01, 5.26164234e-01],\n",
       "       [4.88260210e-01, 5.11739731e-01],\n",
       "       [3.91847908e-01, 6.08152151e-01],\n",
       "       [7.41660178e-01, 2.58339912e-01],\n",
       "       [1.68082327e-01, 8.31917703e-01],\n",
       "       [9.99999940e-01, 6.32845720e-11],\n",
       "       [9.99982059e-01, 1.78977334e-05],\n",
       "       [3.19704235e-01, 6.80295765e-01]], dtype=float32)"
      ]
     },
     "execution_count": 24,
     "metadata": {},
     "output_type": "execute_result"
    }
   ],
   "source": [
    "model.predict(test_inputs)"
   ]
  },
  {
   "cell_type": "code",
   "execution_count": 29,
   "id": "9180e08a-b9fd-42c3-933b-ef192b8c0d5c",
   "metadata": {},
   "outputs": [
    {
     "name": "stdout",
     "output_type": "stream",
     "text": [
      "14/14 [==============================] - 0s 2ms/step\n"
     ]
    },
    {
     "data": {
      "text/plain": [
       "array([0., 1., 1., 1., 1., 1., 1., 1., 1., 1., 1., 0., 0., 0., 0., 0., 1.,\n",
       "       1., 1., 0., 1., 1., 1., 0., 1., 0., 1., 1., 0., 1., 0., 1., 1., 0.,\n",
       "       0., 0., 0., 0., 1., 0., 1., 1., 1., 0., 0., 0., 0., 0., 0., 1., 0.,\n",
       "       1., 1., 1., 0., 0., 0., 0., 1., 1., 1., 0., 1., 0., 1., 1., 1., 1.,\n",
       "       1., 1., 0., 0., 0., 0., 0., 0., 0., 1., 1., 0., 1., 0., 1., 1., 0.,\n",
       "       1., 1., 1., 1., 1., 1., 0., 1., 1., 0., 0., 0., 1., 0., 1., 0., 0.,\n",
       "       0., 1., 0., 1., 0., 0., 1., 0., 0., 0., 1., 1., 0., 1., 0., 1., 0.,\n",
       "       1., 1., 0., 0., 1., 1., 1., 0., 1., 0., 0., 0., 1., 1., 0., 1., 1.,\n",
       "       1., 1., 0., 0., 0., 1., 1., 0., 1., 1., 1., 0., 1., 1., 1., 1., 1.,\n",
       "       1., 0., 1., 1., 0., 1., 1., 0., 0., 1., 1., 1., 0., 0., 0., 1., 0.,\n",
       "       1., 0., 1., 1., 0., 1., 0., 1., 0., 1., 1., 0., 0., 1., 1., 1., 0.,\n",
       "       0., 1., 1., 1., 0., 0., 0., 1., 0., 0., 1., 1., 0., 0., 1., 0., 1.,\n",
       "       0., 1., 1., 1., 1., 1., 0., 1., 1., 1., 0., 1., 0., 0., 1., 1., 0.,\n",
       "       0., 1., 1., 1., 1., 0., 1., 1., 1., 1., 0., 0., 0., 1., 0., 0., 1.,\n",
       "       1., 0., 1., 1., 1., 0., 1., 0., 0., 0., 0., 0., 0., 1., 0., 0., 0.,\n",
       "       0., 1., 0., 0., 0., 0., 1., 0., 1., 1., 1., 0., 1., 0., 1., 1., 0.,\n",
       "       0., 1., 0., 1., 0., 1., 1., 1., 0., 1., 1., 1., 0., 0., 0., 0., 1.,\n",
       "       1., 0., 1., 0., 0., 1., 1., 0., 1., 1., 0., 1., 0., 0., 1., 1., 0.,\n",
       "       0., 1., 0., 1., 0., 1., 1., 1., 1., 0., 0., 1., 1., 1., 0., 0., 0.,\n",
       "       1., 0., 0., 0., 0., 1., 1., 0., 0., 1., 0., 1., 1., 1., 0., 0., 1.,\n",
       "       0., 1., 1., 0., 0., 1., 0., 0., 1., 1., 1., 1., 0., 0., 0., 1., 1.,\n",
       "       1., 0., 0., 1., 0., 1., 1., 0., 0., 1., 0., 0., 1., 1., 0., 0., 1.,\n",
       "       1., 1., 0., 0., 1., 0., 1., 1., 0., 0., 0., 1., 0., 0., 1., 1., 1.,\n",
       "       1., 0., 0., 1., 0., 0., 1., 1., 0., 1., 0., 0., 0., 0., 1., 0., 0.,\n",
       "       0., 0., 1., 0., 1., 1., 0., 1., 1., 0., 1., 1., 1., 1., 0., 1., 0.,\n",
       "       0., 1., 0., 0., 0., 0., 0., 0., 0., 0., 1., 1., 1., 0., 1., 1., 1.,\n",
       "       1., 0., 1., 0., 0., 1.], dtype=float32)"
      ]
     },
     "execution_count": 29,
     "metadata": {},
     "output_type": "execute_result"
    }
   ],
   "source": [
    "model.predict(test_inputs)[:,1].round(0)#only works for 2 classes "
   ]
  },
  {
   "cell_type": "code",
   "execution_count": 30,
   "id": "0f1c6d45-9c43-4598-8d91-bc405948a6b4",
   "metadata": {},
   "outputs": [
    {
     "name": "stdout",
     "output_type": "stream",
     "text": [
      "14/14 [==============================] - 0s 1ms/step\n"
     ]
    },
    {
     "data": {
      "text/plain": [
       "array([0, 1, 1, 1, 1, 1, 1, 1, 1, 1, 1, 0, 0, 0, 0, 0, 1, 1, 1, 0, 1, 1,\n",
       "       1, 0, 1, 0, 1, 1, 0, 1, 0, 1, 1, 0, 0, 0, 0, 0, 1, 0, 1, 1, 1, 0,\n",
       "       0, 0, 0, 0, 0, 1, 0, 1, 1, 1, 0, 0, 0, 0, 1, 1, 1, 0, 1, 0, 1, 1,\n",
       "       1, 1, 1, 1, 0, 0, 0, 0, 0, 0, 0, 1, 1, 0, 1, 0, 1, 1, 0, 1, 1, 1,\n",
       "       1, 1, 1, 0, 1, 1, 0, 0, 0, 1, 0, 1, 0, 0, 0, 1, 0, 1, 0, 0, 1, 0,\n",
       "       0, 0, 1, 1, 0, 1, 0, 1, 0, 1, 1, 0, 0, 1, 1, 1, 0, 1, 0, 0, 0, 1,\n",
       "       1, 0, 1, 1, 1, 1, 0, 0, 0, 1, 1, 0, 1, 1, 1, 0, 1, 1, 1, 1, 1, 1,\n",
       "       0, 1, 1, 0, 1, 1, 0, 0, 1, 1, 1, 0, 0, 0, 1, 0, 1, 0, 1, 1, 0, 1,\n",
       "       0, 1, 0, 1, 1, 0, 0, 1, 1, 1, 0, 0, 1, 1, 1, 0, 0, 0, 1, 0, 0, 1,\n",
       "       1, 0, 0, 1, 0, 1, 0, 1, 1, 1, 1, 1, 0, 1, 1, 1, 0, 1, 0, 0, 1, 1,\n",
       "       0, 0, 1, 1, 1, 1, 0, 1, 1, 1, 1, 0, 0, 0, 1, 0, 0, 1, 1, 0, 1, 1,\n",
       "       1, 0, 1, 0, 0, 0, 0, 0, 0, 1, 0, 0, 0, 0, 1, 0, 0, 0, 0, 1, 0, 1,\n",
       "       1, 1, 0, 1, 0, 1, 1, 0, 0, 1, 0, 1, 0, 1, 1, 1, 0, 1, 1, 1, 0, 0,\n",
       "       0, 0, 1, 1, 0, 1, 0, 0, 1, 1, 0, 1, 1, 0, 1, 0, 0, 1, 1, 0, 0, 1,\n",
       "       0, 1, 0, 1, 1, 1, 1, 0, 0, 1, 1, 1, 0, 0, 0, 1, 0, 0, 0, 0, 1, 1,\n",
       "       0, 0, 1, 0, 1, 1, 1, 0, 0, 1, 0, 1, 1, 0, 0, 1, 0, 0, 1, 1, 1, 1,\n",
       "       0, 0, 0, 1, 1, 1, 0, 0, 1, 0, 1, 1, 0, 0, 1, 0, 0, 1, 1, 0, 0, 1,\n",
       "       1, 1, 0, 0, 1, 0, 1, 1, 0, 0, 0, 1, 0, 0, 1, 1, 1, 1, 0, 0, 1, 0,\n",
       "       0, 1, 1, 0, 1, 0, 0, 0, 0, 1, 0, 0, 0, 0, 1, 0, 1, 1, 0, 1, 1, 0,\n",
       "       1, 1, 1, 1, 0, 1, 0, 0, 1, 0, 0, 0, 0, 0, 0, 0, 0, 1, 1, 1, 0, 1,\n",
       "       1, 1, 1, 0, 1, 0, 0, 1], dtype=int64)"
      ]
     },
     "execution_count": 30,
     "metadata": {},
     "output_type": "execute_result"
    }
   ],
   "source": [
    "np.argmax(model.predict(test_inputs),axis=1)"
   ]
  },
  {
   "cell_type": "code",
   "execution_count": null,
   "id": "687c1b11-c8b8-4c8d-8eea-53cbe19416d7",
   "metadata": {},
   "outputs": [],
   "source": [
    "SAVE"
   ]
  },
  {
   "cell_type": "code",
   "execution_count": 31,
   "id": "a89f5b4d-9d79-461b-a521-dca49f792f7d",
   "metadata": {},
   "outputs": [],
   "source": [
    "model.save('audiobooks_model.h5')"
   ]
  },
  {
   "cell_type": "raw",
   "id": "39a21ceb-0415-499f-9e9d-e8bbebf465f3",
   "metadata": {},
   "source": [
    "-----------------------------------------------------------------------------"
   ]
  },
  {
   "cell_type": "markdown",
   "id": "66404caa-5df1-49b9-9150-b11109370347",
   "metadata": {},
   "source": [
    "PREDICTING ON NEW DATA"
   ]
  },
  {
   "cell_type": "markdown",
   "id": "9057b217-be5f-4b94-83a0-ff086ae402c4",
   "metadata": {},
   "source": [
    "import relevant libraries"
   ]
  },
  {
   "cell_type": "code",
   "execution_count": null,
   "id": "bdbc5431-92dc-4825-a209-1121b384888b",
   "metadata": {},
   "outputs": [],
   "source": []
  },
  {
   "cell_type": "code",
   "execution_count": null,
   "id": "aab5ede1-9dd2-4c45-a659-87ef09175394",
   "metadata": {},
   "outputs": [],
   "source": []
  },
  {
   "cell_type": "code",
   "execution_count": null,
   "id": "9ae7059b-f18d-4986-95ea-48e66578c8f6",
   "metadata": {},
   "outputs": [],
   "source": []
  },
  {
   "cell_type": "code",
   "execution_count": null,
   "id": "0b1313f0-481f-497b-b27f-831d2af8c2d0",
   "metadata": {},
   "outputs": [],
   "source": []
  }
 ],
 "metadata": {
  "kernelspec": {
   "display_name": "Python 3 (py3-TF2.0)",
   "language": "python",
   "name": "py3-tf2.0"
  },
  "language_info": {
   "codemirror_mode": {
    "name": "ipython",
    "version": 3
   },
   "file_extension": ".py",
   "mimetype": "text/x-python",
   "name": "python",
   "nbconvert_exporter": "python",
   "pygments_lexer": "ipython3",
   "version": "3.7.16"
  }
 },
 "nbformat": 4,
 "nbformat_minor": 5
}
